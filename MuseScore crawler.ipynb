{
 "cells": [
  {
   "cell_type": "markdown",
   "metadata": {},
   "source": [
    "## 0. Build a Selenium-based MuseScore Web Scraper"
   ]
  },
  {
   "cell_type": "code",
   "execution_count": 45,
   "metadata": {},
   "outputs": [],
   "source": [
    "from selenium import webdriver\n",
    "from selenium.webdriver.common.keys import Keys\n",
    "import time\n",
    "import random\n",
    "from selenium.webdriver.common.proxy import Proxy, ProxyType\n",
    "from selenium import webdriver\n",
    "import os\n",
    "import subprocess\n",
    " \n",
    "# set selenium proxy\n",
    "prox = Proxy()\n",
    "prox.proxy_type = ProxyType.MANUAL\n",
    "prox.http_proxy = \"http://localhost:8118\"\n",
    "prox.ssl_proxy = \"http://localhost:8118\"\n",
    "capabilities = webdriver.DesiredCapabilities.CHROME\n",
    "prox.add_to_capabilities(capabilities)"
   ]
  },
  {
   "cell_type": "code",
   "execution_count": 60,
   "metadata": {},
   "outputs": [],
   "source": [
    "#session login credentials\n",
    "#username = \"carson.taos@gmail.com\"\n",
    "#password = \"kevin1327\"\n",
    "username = \"evar_3712@hotmail.com\"\n",
    "password = \"evar_3712\""
   ]
  },
  {
   "cell_type": "code",
   "execution_count": 79,
   "metadata": {},
   "outputs": [],
   "source": [
    "#initialize driver and login\n",
    "driver = webdriver.Firefox()\n",
    "driver.get(\"http://www.musescore.com\")\n",
    "button = driver.find_element_by_class_name(\"login\")\n",
    "button.click()"
   ]
  },
  {
   "cell_type": "code",
   "execution_count": 80,
   "metadata": {},
   "outputs": [],
   "source": [
    "#initialize driver, login, click on cookies modal\n",
    "driver = webdriver.Firefox()\n",
    "driver.get(\"http://www.musescore.com\")\n",
    "button = driver.find_element_by_class_name(\"login\")\n",
    "button.click()\n",
    "username = driver.find_element_by_id(\"edit-name\")\n",
    "username.send_keys(\"carson.taos@gmail.com\")\n",
    "password = driver.find_element_by_id(\"edit-pass\")\n",
    "password.send_keys(\"kevin1327\")\n",
    "login = driver.find_element_by_id(\"edit-submit\")\n",
    "login.click()"
   ]
  },
  {
   "cell_type": "code",
   "execution_count": null,
   "metadata": {},
   "outputs": [],
   "source": [
    "#click on cookies modal\n",
    "cookies_modal = driver.find_element_by_id(\"//button[@id='agree-button']\")\n",
    "cookies_modal.click()\n",
    "random.randint(0, 20)"
   ]
  },
  {
   "cell_type": "markdown",
   "metadata": {},
   "source": [
    "# 1.1 Try for one score"
   ]
  },
  {
   "cell_type": "code",
   "execution_count": null,
   "metadata": {},
   "outputs": [],
   "source": [
    "#try for one score\n",
    "driver.get(url) # go back to grid of scores\n",
    "scorelist = driver.find_elements_by_xpath(\"//h2[@class='score-info__title']\")\n",
    "scorelist[4].click()\n",
    "download_button = driver.find_element_by_xpath(\"//button[@class='_3L7Ul _3qfU_ _38TLP _3A7i9 _2XPrY _13O-4 _15kzJ']\")\n",
    "download_button.click()\n",
    "time.sleep(random.random()/2)\n",
    "download_modal_ops =  driver.find_elements_by_xpath(\"//button[@class='_3qfU_ _38TLP _1Us9e _1hkNk _15kzJ']\")\n",
    "download_modal_ops[2].click()\n",
    "time.sleep(5)"
   ]
  },
  {
   "cell_type": "markdown",
   "metadata": {},
   "source": [
    "# 1.2 Try for several pages"
   ]
  },
  {
   "cell_type": "code",
   "execution_count": null,
   "metadata": {},
   "outputs": [],
   "source": [
    "pages_max = 5\n",
    "for page in range(1,pages_max):\n",
    "    url = \"https://musescore.com/hub/piano?page=\" + str(pages)\n",
    "    print(page)\n",
    "    #clear if no of pages is too big\n",
    "    if pages % 5 == 0:\n",
    "        subprocess.call(\"killall -HUP tor\", shell = True)\n",
    "        time.sleep(1)\n",
    "    for index in range(1,21):\n",
    "        driver.get(url) # go back to grid of scores\n",
    "        score_list = driver.find_elements_by_xpath(\"//h2[@class='score-info__title']\")\n",
    "        score_list[index].click()\n",
    "        download_button = driver.find_element_by_xpath(\"//button[@class='_3L7Ul _3qfU_ _38TLP _3A7i9 _2XPrY _13O-4 _15kzJ']\")\n",
    "        download_button.click()\n",
    "        time.sleep(random.randint(2,10))\n",
    "        download_modal_ops =  driver.find_elements_by_xpath(\"//button[@class='_3qfU_ _38TLP _1Us9e _1hkNk _15kzJ']\")\n",
    "        download_modal_ops[2].click()\n",
    "        time.sleep(5)\n",
    "        driver.get(url)# go back to score grid"
   ]
  },
  {
   "cell_type": "markdown",
   "metadata": {},
   "source": [
    "## Legacy code "
   ]
  },
  {
   "cell_type": "code",
   "execution_count": null,
   "metadata": {},
   "outputs": [],
   "source": [
    "#initialize driver, login, click on cookies modal\n",
    "driver = webdriver.Firefox()\n",
    "driver.get(\"http://www.musescore.com\")\n",
    "button = driver.find_element_by_class_name(\"login\")\n",
    "button.click()\n",
    "username_button = driver.find_element_by_xpath(\"//input[@id='edit-name']\")\n",
    "username_button.send_keys(username)\n",
    "time.sleep(random.random()/2)\n",
    "\n",
    "password_button = driver.find_element_by_xpath(\"//input[@id='edit-pass']\")\n",
    "password_button.send_keys(password)\n",
    "time.sleep(random.random()/2)\n",
    "login = driver.find_element_by_xpath(\"//input[@id='edit-submit']\")\n",
    "login.click()"
   ]
  },
  {
   "cell_type": "code",
   "execution_count": 71,
   "metadata": {},
   "outputs": [],
   "source": [
    "#initialize driver, login, click on cookies modal\n",
    "driver = webdriver.Firefox()\n",
    "driver.get(\"http://www.musescore.com\")\n",
    "button = driver.find_element_by_class_name(\"login\")\n",
    "button.click()\n",
    "username_button = driver.find_element_by_id(\"edit-name\")\n",
    "username_button.send_keys(\"evar_3712@hotmail.com\")\n",
    "password_button = driver.find_element_by_id(\"edit-pass\")\n",
    "password_button.send_keys(\"evar_3712\")\n",
    "login = driver.find_element_by_id(\"edit-submit\")\n",
    "login.click()\n"
   ]
  },
  {
   "cell_type": "code",
   "execution_count": null,
   "metadata": {},
   "outputs": [],
   "source": []
  }
 ],
 "metadata": {
  "kernelspec": {
   "display_name": "Python 3",
   "language": "python",
   "name": "python3"
  },
  "language_info": {
   "codemirror_mode": {
    "name": "ipython",
    "version": 3
   },
   "file_extension": ".py",
   "mimetype": "text/x-python",
   "name": "python",
   "nbconvert_exporter": "python",
   "pygments_lexer": "ipython3",
   "version": "3.6.8"
  },
  "varInspector": {
   "cols": {
    "lenName": 16,
    "lenType": 16,
    "lenVar": 40
   },
   "kernels_config": {
    "python": {
     "delete_cmd_postfix": "",
     "delete_cmd_prefix": "del ",
     "library": "var_list.py",
     "varRefreshCmd": "print(var_dic_list())"
    },
    "r": {
     "delete_cmd_postfix": ") ",
     "delete_cmd_prefix": "rm(",
     "library": "var_list.r",
     "varRefreshCmd": "cat(var_dic_list()) "
    }
   },
   "types_to_exclude": [
    "module",
    "function",
    "builtin_function_or_method",
    "instance",
    "_Feature"
   ],
   "window_display": false
  }
 },
 "nbformat": 4,
 "nbformat_minor": 2
}
